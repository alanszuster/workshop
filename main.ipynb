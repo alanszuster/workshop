{
 "cells": [
  {
   "cell_type": "code",
   "execution_count": null,
   "id": "79fe6109",
   "metadata": {},
   "outputs": [],
   "source": [
    "# Instalujemy wszystkie potrzebne biblioteki z pliku requirements.txt\n",
    "# UWAGA: działa tylko, jeśli plik requirements.txt jest w tym samym katalogu co notebook\n",
    "# oraz środowisko pozwala na wykonywanie poleceń systemowych (!)\n",
    "\n",
    "# Jeśli pracujesz np. w Google Colab lub lokalnie z uprawnieniami pip:\n",
    "!pip install -r requirements.txt"
   ]
  },
  {
   "cell_type": "code",
   "execution_count": null,
   "id": "283df77f",
   "metadata": {},
   "outputs": [],
   "source": [
    "# Importujemy najważniejsze biblioteki:\n",
    "import pandas as pd                     # do pracy z danymi w tabeli (DataFrame)\n",
    "import numpy as np                      # operacje matematyczne/tablicowe\n",
    "import matplotlib.pyplot as plt         # tworzenie wykresów\n",
    "import seaborn as sns                   # ładniejsze wizualizacje (bazuje na matplotlib)\n",
    "\n",
    "# Biblioteki do uczenia maszynowego\n",
    "from sklearn.model_selection import train_test_split     # podział danych na zbiór treningowy i testowy\n",
    "from sklearn.linear_model import LinearRegression         # model regresji liniowej\n",
    "from sklearn.metrics import mean_squared_error            # metryka: średni błąd kwadratowy"
   ]
  },
  {
   "cell_type": "code",
   "execution_count": null,
   "id": "e7f7103b-9fef-4aca-882c-28e79447ee43",
   "metadata": {},
   "outputs": [],
   "source": [
    "# Wczytujemy dane z pliku CSV (plik musi znajdować się w tym samym katalogu co notebook)\n",
    "df = pd.read_csv(\"data.csv\")\n",
    "\n",
    "# Wyświetlamy pierwsze 5 wierszy, żeby zobaczyć strukturę danych\n",
    "df.head()"
   ]
  },
  {
   "cell_type": "code",
   "execution_count": null,
   "id": "3f019796",
   "metadata": {},
   "outputs": [],
   "source": [
    "# Informacje o typach danych i brakujących wartościach\n",
    "df.info()\n",
    "\n",
    "# Podstawowe statystyki opisowe: średnia, min, max, odchylenie itd.\n",
    "print(\"\\nStatystyki opisowe:\\n\")\n",
    "print(df.describe())\n",
    "\n",
    "# Macierz korelacji – sprawdzamy siłę zależności między zmiennymi\n",
    "plt.figure(figsize=(8,6))\n",
    "sns.heatmap(df.corr(), annot=True, cmap='coolwarm', fmt=\".2f\")\n",
    "plt.title(\"Macierz korelacji między zmiennymi\")\n",
    "plt.show()"
   ]
  },
  {
   "cell_type": "code",
   "execution_count": null,
   "id": "8486f0ea",
   "metadata": {},
   "outputs": [],
   "source": [
    "# Wybieramy jedną cechę (zmienną niezależną) – 'test_probny'\n",
    "X_single = df[['test_probny']]              # X musi być 2D (dlatego podwójne [[]])\n",
    "y = df['egzamin_zawodowy']                  # Zmienna zależna (target)\n",
    "\n",
    "# Dzielimy dane na zbiór treningowy i testowy (80/20)\n",
    "X_train_s, X_test_s, y_train_s, y_test_s = train_test_split(X_single, y, test_size=0.2, random_state=0)\n",
    "\n",
    "# Tworzymy i trenujemy model regresji liniowej\n",
    "model_single = LinearRegression()\n",
    "model_single.fit(X_train_s, y_train_s)\n",
    "\n",
    "# Przewidujemy wyniki dla zbioru testowego\n",
    "y_pred_s = model_single.predict(X_test_s)\n",
    "\n",
    "# Obliczamy błąd średniokwadratowy (MSE)\n",
    "mse_single = mean_squared_error(y_test_s, y_pred_s)\n",
    "print(f\"Błąd MSE (1 cecha): {mse_single:.2f}\")\n",
    "\n",
    "# Wykres: dane rzeczywiste i linia regresji\n",
    "plt.figure(figsize=(10,6))\n",
    "plt.scatter(X_test_s, y_test_s, label=\"Rzeczywiste oceny\")    # punkty rzeczywiste\n",
    "plt.plot(X_test_s, y_pred_s, color='red', linewidth=2, label=\"Regresja liniowa\")  # linia przewidywań\n",
    "plt.xlabel(\"Wynik z testu próbnego\")\n",
    "plt.ylabel(\"Wynik z egzaminu zawodowego\")\n",
    "plt.title(\"Regresja liniowa: tylko test_probny\")\n",
    "plt.legend()\n",
    "plt.grid(True)\n",
    "plt.show()\n"
   ]
  },
  {
   "cell_type": "code",
   "execution_count": null,
   "id": "23db6095",
   "metadata": {},
   "outputs": [],
   "source": [
    "# Wybieramy wszystkie kolumny jako cechy (poza targetem)\n",
    "X = df.drop('egzamin_zawodowy', axis=1)\n",
    "y = df['egzamin_zawodowy']\n",
    "\n",
    "# Dzielimy dane na treningowe i testowe\n",
    "X_train, X_test, y_train, y_test = train_test_split(X, y, test_size=0.2, random_state=0)\n",
    "\n",
    "# Trenujemy model na wielu zmiennych\n",
    "model_full = LinearRegression()\n",
    "model_full.fit(X_train, y_train)\n",
    "\n",
    "# Przewidujemy wyniki\n",
    "y_pred = model_full.predict(X_test)\n",
    "\n",
    "# Obliczamy błąd\n",
    "mse_full = mean_squared_error(y_test, y_pred)\n",
    "print(f\"Błąd MSE (wszystkie cechy): {mse_full:.2f}\")\n",
    "\n",
    "# Wyświetlamy współczynniki regresji (wpływ każdej zmiennej na wynik)\n",
    "coefficients = pd.DataFrame({\n",
    "    'Cecha': X.columns,\n",
    "    'Współczynnik': model_full.coef_\n",
    "})\n",
    "print(coefficients.sort_values(by=\"Współczynnik\", key=abs, ascending=False))  # sortujemy po wpływie\n",
    "\n"
   ]
  },
  {
   "cell_type": "code",
   "execution_count": null,
   "id": "d90d40fb",
   "metadata": {},
   "outputs": [],
   "source": [
    "# Wykres porównujący wartości rzeczywiste i przewidywane przez model\n",
    "plt.figure(figsize=(8,6))\n",
    "plt.scatter(y_test, y_pred, alpha=0.7)\n",
    "plt.plot([y.min(), y.max()], [y.min(), y.max()], 'r--', lw=2)  # linia idealnego dopasowania\n",
    "plt.xlabel(\"Rzeczywiste oceny\")\n",
    "plt.ylabel(\"Przewidywane oceny\")\n",
    "plt.title(\"Rzeczywiste vs Przewidywane (model z wszystkimi cechami)\")\n",
    "plt.grid(True)\n",
    "plt.show()\n",
    "\n"
   ]
  },
  {
   "cell_type": "code",
   "execution_count": null,
   "id": "7ac7cbdb-6f68-4146-8549-0d30bdaccc76",
   "metadata": {},
   "outputs": [],
   "source": []
  }
 ],
 "metadata": {
  "kernelspec": {
   "display_name": "Python 3 (ipykernel)",
   "language": "python",
   "name": "python3"
  },
  "language_info": {
   "codemirror_mode": {
    "name": "ipython",
    "version": 3
   },
   "file_extension": ".py",
   "mimetype": "text/x-python",
   "name": "python",
   "nbconvert_exporter": "python",
   "pygments_lexer": "ipython3",
   "version": "3.12.3"
  }
 },
 "nbformat": 4,
 "nbformat_minor": 5
}
